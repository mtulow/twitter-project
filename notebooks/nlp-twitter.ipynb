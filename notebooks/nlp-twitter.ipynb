{
 "cells": [
  {
   "cell_type": "markdown",
   "id": "5a8292cf",
   "metadata": {},
   "source": [
    "# <center>Natural Language Processing for Twitter Data</center>\n",
    "---"
   ]
  },
  {
   "cell_type": "markdown",
   "id": "6a0c6846",
   "metadata": {},
   "source": [
    "__Sources:__\n",
    "- Natural Language Processing in Python using spaCy - [link](https://blog.quantinsti.com/spacy-python/)\n",
    "- Sentiment Analysis And Alternative Data In Trading - [link](https://blog.quantinsti.com/ama-sentiment-analysis-trading-20-may-2022/)"
   ]
  },
  {
   "cell_type": "markdown",
   "id": "f6bbd8fa",
   "metadata": {},
   "source": [
    "---"
   ]
  }
 ],
 "metadata": {
  "kernelspec": {
   "display_name": "Python 3 (ipykernel)",
   "language": "python",
   "name": "python3"
  },
  "language_info": {
   "codemirror_mode": {
    "name": "ipython",
    "version": 3
   },
   "file_extension": ".py",
   "mimetype": "text/x-python",
   "name": "python",
   "nbconvert_exporter": "python",
   "pygments_lexer": "ipython3",
   "version": "3.9.12"
  }
 },
 "nbformat": 4,
 "nbformat_minor": 5
}
