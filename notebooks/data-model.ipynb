{
 "cells": [
  {
   "cell_type": "markdown",
   "id": "fe1a6c6c",
   "metadata": {},
   "source": [
    "# <center>Data Model</center>\n",
    "---"
   ]
  },
  {
   "cell_type": "markdown",
   "id": "4b750378",
   "metadata": {},
   "source": [
    "Nodes:\n",
    "- tweets\n",
    "    - likes\n",
    "    - retweets\n",
    "    - created\n",
    "    \n",
    "- users\n",
    "    - followers\n",
    "    - followees\n",
    "    - \n",
    "    \n",
    "Edges: \n",
    "- relationships\n",
    "    - follows\n",
    "    \n",
    "- actions\n",
    "    - liking"
   ]
  }
 ],
 "metadata": {
  "kernelspec": {
   "display_name": "Python 3 (ipykernel)",
   "language": "python",
   "name": "python3"
  },
  "language_info": {
   "codemirror_mode": {
    "name": "ipython",
    "version": 3
   },
   "file_extension": ".py",
   "mimetype": "text/x-python",
   "name": "python",
   "nbconvert_exporter": "python",
   "pygments_lexer": "ipython3",
   "version": "3.9.12"
  }
 },
 "nbformat": 4,
 "nbformat_minor": 5
}
