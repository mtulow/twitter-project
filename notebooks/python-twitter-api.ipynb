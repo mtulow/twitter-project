{
 "cells": [
  {
   "cell_type": "markdown",
   "id": "6adc8a71",
   "metadata": {},
   "source": [
    "# <center>Python Twitter API</center>\n",
    "---"
   ]
  },
  {
   "cell_type": "markdown",
   "id": "8b97a6a3",
   "metadata": {},
   "source": [
    "Article: [link](https://blog.quantinsti.com/python-twitter-api/)"
   ]
  },
  {
   "cell_type": "markdown",
   "id": "2dc2bfb3",
   "metadata": {},
   "source": [
    "---"
   ]
  }
 ],
 "metadata": {
  "kernelspec": {
   "display_name": "Python 3 (ipykernel)",
   "language": "python",
   "name": "python3"
  },
  "language_info": {
   "codemirror_mode": {
    "name": "ipython",
    "version": 3
   },
   "file_extension": ".py",
   "mimetype": "text/x-python",
   "name": "python",
   "nbconvert_exporter": "python",
   "pygments_lexer": "ipython3",
   "version": "3.9.12"
  }
 },
 "nbformat": 4,
 "nbformat_minor": 5
}
