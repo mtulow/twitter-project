{
 "cells": [
  {
   "cell_type": "markdown",
   "id": "9eb386f7",
   "metadata": {},
   "source": [
    "# <center>House of the Dragons Series</center>\n",
    "---"
   ]
  },
  {
   "cell_type": "markdown",
   "id": "6b94818d",
   "metadata": {},
   "source": [
    "#### Tasks"
   ]
  },
  {
   "cell_type": "markdown",
   "id": "7420b7bc",
   "metadata": {},
   "source": [
    "---\n",
    "---\n",
    "---"
   ]
  },
  {
   "cell_type": "markdown",
   "id": "a0092fcf",
   "metadata": {},
   "source": [
    "#### Imports"
   ]
  },
  {
   "cell_type": "code",
   "execution_count": 5,
   "id": "e75cb4c6",
   "metadata": {},
   "outputs": [],
   "source": [
    "import tweepy\n",
    "import pandas as pd\n",
    "import datetime as dt\n",
    "from auth import get_api_keys, get_bearer_token_client"
   ]
  },
  {
   "cell_type": "markdown",
   "id": "70b3290c",
   "metadata": {},
   "source": [
    "## Search Recent Tweets\n",
    "---"
   ]
  },
  {
   "cell_type": "code",
   "execution_count": 12,
   "id": "9de0c6da",
   "metadata": {},
   "outputs": [],
   "source": [
    "def search_recent_tweets(search_query: str,\n",
    "                         max_results: int=10,\n",
    "                         **kwargs):\n",
    "    \"\"\"\n",
    "    Returns\n",
    "    \"\"\"\n",
    "    client = get_bearer_token_client()\n",
    "    \n",
    "    response = client.search_recent_tweets(search_query,\n",
    "                                           max_results=max_results,\n",
    "                                           **kwargs)\n",
    "\n",
    "    return response"
   ]
  },
  {
   "cell_type": "code",
   "execution_count": null,
   "id": "07ea8864",
   "metadata": {},
   "outputs": [],
   "source": [
    "def recent_tweets_with_fields(search_query: str, max_results: int=10, tweet_fields: list=None):\n",
    "    \"\"\"\n",
    "    Return tweets \n",
    "    \"\"\""
   ]
  },
  {
   "cell_type": "code",
   "execution_count": null,
   "id": "101e8c11",
   "metadata": {},
   "outputs": [],
   "source": [
    "def search_recent_tweets_expansions():\n",
    "    \"\"\"\n",
    "    Return \n",
    "    \"\"\"\n",
    "    \n",
    "    # You can specify expansions to retrieve additional objects that relate to the\n",
    "    # returned results\n",
    "    response = client.search_recent_tweets(\n",
    "        \"Tweepy\", expansions=[\"attachments.media_keys\", \"author_id\"]\n",
    "    )\n",
    "    tweets = response.data\n",
    "\n",
    "    # You can then access those objects in the includes Response field\n",
    "    includes = response.includes\n",
    "    users = includes[\"users\"]\n",
    "\n",
    "    # The IDs that represent the expanded objects are included directly in the\n",
    "    # returned data objects\n",
    "    for tweet in tweets:\n",
    "        print(tweet.author_id)\n",
    "\n",
    "    # An efficient way of matching expanded objects to each data object is to\n",
    "    # create a dictionary of each type of expanded object, with IDs as keys\n",
    "    users = {user[\"id\"]: user for user in users}\n",
    "    for tweet in tweets:\n",
    "        print(tweet.id, users[tweet.author_id].username)"
   ]
  },
  {
   "cell_type": "code",
   "execution_count": null,
   "id": "214aa6c1",
   "metadata": {},
   "outputs": [],
   "source": []
  },
  {
   "cell_type": "code",
   "execution_count": 16,
   "id": "d3909da1",
   "metadata": {},
   "outputs": [
    {
     "data": {
      "text/plain": [
       "Response(data=[<Tweet id=1579260396426305536 text='RT @ASOIAFQuotesGOT: “There is a debt to be paid…I shall have one of her son’s eyes in return.”\\nAlicent Hightower https://t.co/6DHvdOEh8F'>, <Tweet id=1579260390068080641 text='RT @HOTDsource: Larys whenever Alicent breathes #HouseOfTheDragon https://t.co/ftRApULL8h'>, <Tweet id=1579260386301575168 text='RT @HOTDsource: Fun Fact: Margaery Tyrell is a descendant of Alicent Hightower #HouseOfTheDragon https://t.co/sVy934n1zZ'>, <Tweet id=1579260371520524289 text='Muchos dicen que Alicent perdió la compostura, pero no hay nada más justo que el #OjoPorOjo Una verdadera madre es capaz de lo que sea por sus hijos. #LaCasaDelDragón'>, <Tweet id=1579260350087958528 text='@FLM_Health @silvcrwings That definitely needed a scene where Alicent convinces Viserys not to punish him. It was weird that everyone would just accept that'>, <Tweet id=1579260336552955905 text='“There is a debt to be paid…I shall have one of her son’s eyes in return.”\\nAlicent Hightower https://t.co/6DHvdOEh8F'>, <Tweet id=1579260330567352321 text='RT @fuckbetteporter: just various shots of alicent being a hater… and it got a giggle out of me, she’s the one https://t.co/2wVdEFAumJ'>, <Tweet id=1579260310053359617 text='odiar a alicent es literalmente como odiar a skyler'>, <Tweet id=1579260292491792385 text='Alicent Hightower tirando as decorações valirianos e substituindo pela as da fé: 😤😮\\u200d💨😡🤬😵\\u200d💫😪\\n\\nMyriah Martell decorando a Fortaleza vermelhas com cores dornesas: 🥺🥰😍❤️😻🎉💅🙏'>, <Tweet id=1579260269414748161 text='Muchos dicen que Alicent perdió la compostura, pero no hay nada más justo que el #OjoPorOjo Una verdadera madre es capaz de lo que sea por sus hijos. #LaCasaDelDragón'>, <Tweet id=1579260263915978752 text='RT @thinkercooke: modern alicent with baby aemond\\n https://t.co/gU6qcHUKWE'>, <Tweet id=1579260231967977472 text='RT @HOTDsource: Fun Fact: Margaery Tyrell is a descendant of Alicent Hightower #HouseOfTheDragon https://t.co/sVy934n1zZ'>, <Tweet id=1579260192486993920 text='RT @silvcrwings: that is literally just a straight up LIE cause absolutely everyone in alicent and otto line was dead as doornails before 1…'>, <Tweet id=1579260083321438208 text='RT @HOTDsource: Fun Fact: Margaery Tyrell is a descendant of Alicent Hightower #HouseOfTheDragon https://t.co/sVy934n1zZ'>, <Tweet id=1579260072341180416 text=\"I'm so ready for tonight. Can't wait to see the look on Alicent's face when she finds out about Daemon and Rhaenyra #hotd #DragonsYall\">, <Tweet id=1579260060345151488 text='RT @HOTDsource: Fun Fact: Margaery Tyrell is a descendant of Alicent Hightower #HouseOfTheDragon https://t.co/sVy934n1zZ'>, <Tweet id=1579260056293765120 text=\"RT @TODAYshow: From Aegon to Rhaena to yet another Joffrey, here's your guide to the next generation of Targaryen and Velaryon children in…\">, <Tweet id=1579260025620422656 text='@chatswith_chels YES! #TeamBlack all the way. Alicent from the jump rubbed me the wrong way.'>, <Tweet id=1579260025092321280 text='Vou ser obrigado a silenciar as palavras argon ,rhaenyra ,targaryan ,alicent .'>, <Tweet id=1579260019174146049 text=\"RT @WiCnet: One more time jump, one more actor switch; Alicent's kids are going to grow up (Via Reddit: https://t.co/AcSSlGQhLs) https://t.…\">, <Tweet id=1579260019153178624 text='meus parabens alicent hightower vc ganhou o titulo de mulher mais jumenta de westeros'>, <Tweet id=1579259993752117249 text='RT @HOTDsource: Fun Fact: Margaery Tyrell is a descendant of Alicent Hightower #HouseOfTheDragon https://t.co/sVy934n1zZ'>, <Tweet id=1579259976165756930 text='My grandma lie so much talking bout she use to babysit alicent'>, <Tweet id=1579259965851963393 text='RT @HOTDsource: Fun Fact: Margaery Tyrell is a descendant of Alicent Hightower #HouseOfTheDragon https://t.co/sVy934n1zZ'>, <Tweet id=1579259951608102912 text='RT @HOTDsource: Fun Fact: Margaery Tyrell is a descendant of Alicent Hightower #HouseOfTheDragon https://t.co/sVy934n1zZ'>, <Tweet id=1579259944112902144 text='RT @virathedragon: Alicent (in show) was a victim. \\n\\nShe then turned around and decided to destroy someone she claimed to love because that…'>, <Tweet id=1579259931358007296 text='RT @Lover7Panic: Gente, acho que essa cena aqui vai ser depois que o Daemon dar uma de açougueiro e a alicent provavelmente vai até eles fa…'>, <Tweet id=1579259929138843648 text='RT @oochotd: It’s Rhaenys vs Alicent tonight 🔥#HouseOfTheDragon https://t.co/GROhzMZPFK'>, <Tweet id=1579259927025324032 text='Finally someone explains what I trying to explain Alicent in my mind. https://t.co/tnymLETaTk'>, <Tweet id=1579259922457714688 text='RT @GoodConceptPro: \"My kids love this domino train. So many hours of entertainment. I am gonna have to buy a second one so my kiddos don\\'t…'>, <Tweet id=1579259912781430784 text='if you look at grrm’s cast of female characters it’s very clear that he does not like or reward the alicent archetype so it’s no wonder her fans think she’s oppressed'>, <Tweet id=1579259893927723010 text=\"@HOTDsource Not directly, as far as i know Alicent's bloodline  didn't survive\">, <Tweet id=1579259889016516608 text='RT @evelineolv: essa galera falando que os filhos da rhaenyra são menos valirianos por serem bastardos, mas os filhos da alicent tem descen…'>, <Tweet id=1579259888899096576 text='RT @HOTDsource: Fun Fact: Margaery Tyrell is a descendant of Alicent Hightower #HouseOfTheDragon https://t.co/sVy934n1zZ'>, <Tweet id=1579259886520500224 text='Yalnız alicent burada meral akşener gibi çıkmış.'>, <Tweet id=1579259883865923584 text='@lyssax_ Hahaha okay but let’s be honest, Larys is WAY worse than him! And so is that dumb bish Alicent 😂'>, <Tweet id=1579259841553391616 text='Y ahora toca ver hotd, no quiero que me hagan odiar a alicent 💔'>, <Tweet id=1579259811488989186 text='RT @rhaegarlya: otto’s great nephew married rhaena so margaery has more of daemon’s blood than alicent’s lmao COPE'>, <Tweet id=1579259800848072705 text='Muchos dicen que Alicent perdió la compostura, pero no hay nada más justo que el #OjoPorOjo Una verdadera madre es capaz de lo que sea por sus hijos. #LaCasaDelDragón'>, <Tweet id=1579259792933081089 text='RT @HOTDsource: Fun Fact: Margaery Tyrell is a descendant of Alicent Hightower #HouseOfTheDragon https://t.co/sVy934n1zZ'>, <Tweet id=1579259767373332480 text='RT @thinkercooke: modern alicent with baby aemond\\n https://t.co/gU6qcHUKWE'>, <Tweet id=1579259761719402496 text='RT @HOTDsource: Fun Fact: Margaery Tyrell is a descendant of Alicent Hightower #HouseOfTheDragon https://t.co/sVy934n1zZ'>, <Tweet id=1579259754521985024 text='RT @fuckbetteporter: just various shots of alicent being a hater… and it got a giggle out of me, she’s the one https://t.co/2wVdEFAumJ'>, <Tweet id=1579259736993673218 text='RT @everkota: the tragedy of alicent hightower #houseofthedragon https://t.co/PbkjRqWgxu'>, <Tweet id=1579259721793798144 text='Oooo bilgiye gel olenna teyzenin ninesi olarak alicent hightower https://t.co/KgjFkrU7n2'>, <Tweet id=1579259717880512512 text='RT @Karlincognito: Alicent stupid bitch Hightower'>, <Tweet id=1579259700641529857 text='RT @VillaresAndrea: El feminismo abandonando mi cuerpo cada vez que Alicent Hightower abre la puta boca #HouseOfTheDragon #LaCasadelDragón…'>, <Tweet id=1579259689799274498 text='@lilwamen Margery read about Alicent at night and was like \"slay slay\"'>, <Tweet id=1579259648170786816 text='We still don’t like Alicent though. https://t.co/GC1aldi8Vs'>, <Tweet id=1579259637786083328 text='RT @JarrodSchroll: Me anytime Alicent opens her mouth. #HouseOfTheDragon https://t.co/yz5cYHgYh4'>, <Tweet id=1579259637735755776 text='Aliás, vi muito hate a Alicent na timeline, mas Sir Criston de 20 a 30x pior que ela hein? Macho recalcado intenfisies. #HouseOfTheDragonHBO'>, <Tweet id=1579259627782316032 text='RT @silvcrwings: that is literally just a straight up LIE cause absolutely everyone in alicent and otto line was dead as doornails before 1…'>, <Tweet id=1579259617674395649 text='RT @HOTDsource: Fun Fact: Margaery Tyrell is a descendant of Alicent Hightower #HouseOfTheDragon https://t.co/sVy934n1zZ'>, <Tweet id=1579259600834301952 text='RT @HOTDsource: Fun Fact: Margaery Tyrell is a descendant of Alicent Hightower #HouseOfTheDragon https://t.co/sVy934n1zZ'>, <Tweet id=1579259593301295105 text='RT @thinkercooke: modern alicent with baby aemond\\n https://t.co/gU6qcHUKWE'>, <Tweet id=1579259578839367682 text='RT @targaryendramas: Alicent after finding out that Rhaenyra eloped with Daemon https://t.co/XORcouWxhD'>, <Tweet id=1579259536774680577 text='ALICENT VELHA SAFADA https://t.co/wKgAeMHBrs'>, <Tweet id=1579259535721578496 text='RT @thinkercooke: modern alicent with baby aemond\\n https://t.co/gU6qcHUKWE'>, <Tweet id=1579259524149411840 text='RT @spaceprinceben: que pena que com o salto tempora vamos perder a reação do viserys, alicent, otto &amp; cia para o daemon e a rhaenyra nomea…'>, <Tweet id=1579259513466589186 text=\"rhaenicent | rhaenyra targaryen| alicent hightower| milly alcock | emma d'arcy| emily carey | olivia cooke | taylor swift | bad blood | edit | house of the dragon https://t.co/1wj5jnBVaL\">, <Tweet id=1579259498157740032 text='RT @HOTDsource: Fun Fact: Margaery Tyrell is a descendant of Alicent Hightower #HouseOfTheDragon https://t.co/sVy934n1zZ'>, <Tweet id=1579259491878522880 text='Paralelismos perfectos entre Alicent y Cersei 🛐 https://t.co/AQdTzN2xvg https://t.co/aucDlmm8pB'>, <Tweet id=1579259479270785024 text='RT @oochotd: It’s Rhaenys vs Alicent tonight 🔥#HouseOfTheDragon https://t.co/GROhzMZPFK'>, <Tweet id=1579259436946067457 text='RT @HOTDsource: Fun Fact: Margaery Tyrell is a descendant of Alicent Hightower #HouseOfTheDragon https://t.co/sVy934n1zZ'>, <Tweet id=1579259421892706305 text='RT @queenalysxanne: @HOTDsource margaery is alicent’s relative but not alicent’s descendant. alicent has no descendants 😭'>, <Tweet id=1579259419493564416 text='RT @evelineolv: essa galera falando que os filhos da rhaenyra são menos valirianos por serem bastardos, mas os filhos da alicent tem descen…'>, <Tweet id=1579259395435008005 text='RT @evelineolv: essa galera falando que os filhos da rhaenyra são menos valirianos por serem bastardos, mas os filhos da alicent tem descen…'>, <Tweet id=1579259381438648320 text='@Ale_Nerozi @Lover7Panic Alicent fez filhos por fazer é muito diferente da historia do Daemon e da Rhaenyra que se amaram e atraves desse amor nasceram os seus filhos'>, <Tweet id=1579259359213006848 text='alicent closeted repressed lesbian who’s been forced to be nothing but a royal womb and is mad at rhaenyra (the love of her life) for being able to live (even though they’re both held in shackles by their societal expectations) https://t.co/xfrhWzkKNr'>, <Tweet id=1579259316254613504 text='I just know Alicent’s children are going to be the fucking worst in the new episode tonight'>, <Tweet id=1579259259510222848 text='RT @HOTDsource: Fun Fact: Margaery Tyrell is a descendant of Alicent Hightower #HouseOfTheDragon https://t.co/sVy934n1zZ'>, <Tweet id=1579259257341759488 text='Muchos dicen que Alicent perdió la compostura, pero no hay nada más justo que el #OjoPorOjo Una verdadera madre es capaz de lo que sea por sus hijos. #LaCasaDelDragón'>, <Tweet id=1579259240975241219 text='RT @oochotd: It’s Rhaenys vs Alicent tonight 🔥#HouseOfTheDragon https://t.co/GROhzMZPFK'>, <Tweet id=1579259226387456000 text='Alicent isn’t as bad as people make her out to be, and she has a lot to be mad about. I just don’t like anyone on her team. That said, she can go.'>, <Tweet id=1579259210088734720 text='I don’t know why I like Alicent so much, maybe because of Olivia Cooke, but apparently episode 8 of #HOTD is where I’m supposed to hate her 😕'>, <Tweet id=1579259165670719489 text='Alicent is that you?! https://t.co/ctVbWkJbKI'>, <Tweet id=1579259157932171264 text='RT @thinkercooke: modern alicent with baby aemond\\n https://t.co/gU6qcHUKWE'>, <Tweet id=1579259140764946432 text='RT @thinkercooke: modern alicent with baby aemond\\n https://t.co/gU6qcHUKWE'>, <Tweet id=1579259139900919808 text='RT @thinkercooke: modern alicent with baby aemond\\n https://t.co/gU6qcHUKWE'>, <Tweet id=1579259106279706624 text=\"RT @marytwdor: when mush said alicent wished rhaenyra's death, calling her a whore, greens said he was unreliable. but when he said visenya…\">, <Tweet id=1579259104379699202 text='@milanesakkkj libera minha mommy alicent rapaz, hj veremos juntos pode me chamar'>, <Tweet id=1579259102483529728 text='RT @everkota: the tragedy of alicent hightower #houseofthedragon https://t.co/PbkjRqWgxu'>, <Tweet id=1579259047127453696 text='O USER DA ALICENT TO ME MIJANDO https://t.co/8KYbBXKoao'>, <Tweet id=1579259040479457280 text='só a Alicent Hightower pode estragá-lo daqui a pouco 🤩 https://t.co/rvEMiC3uQ1'>, <Tweet id=1579259010506665984 text='RT @HOTDsource: Fun Fact: Margaery Tyrell is a descendant of Alicent Hightower #HouseOfTheDragon https://t.co/sVy934n1zZ'>, <Tweet id=1579259002935836674 text='RT @lastkisshhh: #RHAENYRA &amp; #ALICENT: my tears ricochet\\nhttps://t.co/VlXcSpyj4A'>, <Tweet id=1579258965203963907 text='RT @HOTDsource: Fun Fact: Margaery Tyrell is a descendant of Alicent Hightower #HouseOfTheDragon https://t.co/sVy934n1zZ'>, <Tweet id=1579258930269941760 text='RT @GoodConceptPro: \"My kids love this domino train. So many hours of entertainment. I am gonna have to buy a second one so my kiddos don\\'t…'>, <Tweet id=1579258888658255877 text=\"RT @NiceQueenCersei: Rhaenys: *Quietly* I know what you are. \\nAlicent: In love with Rhaenyra? I thought I'd repressed that really well. \\nRh…\">, <Tweet id=1579258882022846464 text='RT @everkota: the tragedy of alicent hightower #houseofthedragon https://t.co/PbkjRqWgxu'>, <Tweet id=1579258874422784000 text='RT @HOTDsource: Not a direct descendant, but a descendant nonetheless, Margaery is descended from Alicent’s cousins, which would make Alice…'>, <Tweet id=1579258855523258368 text=\"RT @helstarfyre: It's always “ alicent’s bloodline is ended haha the hightowers are losers🤣🤣🤣” as if those hightowers aren't hanging out at…\">, <Tweet id=1579258837881614336 text='a alicent e o criston cole dois vermes'>, <Tweet id=1579258788171124738 text='@LoreVillarraga_ Jajajajajajaja, mi Alicent solo necesita tener buen sexo.'>, <Tweet id=1579258723985653760 text='Muchos dicen que Alicent perdió la compostura, pero no hay nada más justo que el #OjoPorOjo Una verdadera madre es capaz de lo que sea por sus hijos. #LaCasaDelDragón'>, <Tweet id=1579258715449872384 text='RT @thinkercooke: modern alicent with baby aemond\\n https://t.co/gU6qcHUKWE'>, <Tweet id=1579258713625759744 text='RT @thinkercooke: modern alicent with baby aemond\\n https://t.co/gU6qcHUKWE'>, <Tweet id=1579258712015138818 text='a marg lembra um pouco a alicent eu reparei isso desde o 1 ep https://t.co/hEpKHpH64o'>], includes={}, errors=[], meta={'newest_id': '1579260396426305536', 'oldest_id': '1579258712015138818', 'result_count': 98, 'next_token': 'b26v89c19zqg8o3fpzbngd9ecwbwhgr150v56fxk2y6pp'})"
      ]
     },
     "execution_count": 16,
     "metadata": {},
     "output_type": "execute_result"
    }
   ],
   "source": [
    "# search_recent_tweets('')\n",
    "start = dt.datetime(2022, 10, 9)\n",
    "end = dt.datetime(2022, 10, 10)\n",
    "\n",
    "response = search_recent_tweets('Alicent', 100, start=start, end=end,\n",
    "                               [\"created_at\", \"lang\"])\n",
    "response"
   ]
  },
  {
   "cell_type": "code",
   "execution_count": 23,
   "id": "95c4d9bb",
   "metadata": {},
   "outputs": [],
   "source": [
    "# [(data.id, data.text) for data in response]\n",
    "? response.count"
   ]
  },
  {
   "cell_type": "code",
   "execution_count": 28,
   "id": "5b6f46f7",
   "metadata": {},
   "outputs": [
    {
     "data": {
      "text/plain": [
       "[(1579260396426305536,\n",
       "  'RT @ASOIAFQuotesGOT: “There is a debt to be paid…I shall have one of her son’s eyes in return.”\\nAlicent Hightower https://t.co/6DHvdOEh8F'),\n",
       " (1579260390068080641,\n",
       "  'RT @HOTDsource: Larys whenever Alicent breathes #HouseOfTheDragon https://t.co/ftRApULL8h'),\n",
       " (1579260386301575168,\n",
       "  'RT @HOTDsource: Fun Fact: Margaery Tyrell is a descendant of Alicent Hightower #HouseOfTheDragon https://t.co/sVy934n1zZ'),\n",
       " (1579260371520524289,\n",
       "  'Muchos dicen que Alicent perdió la compostura, pero no hay nada más justo que el #OjoPorOjo Una verdadera madre es capaz de lo que sea por sus hijos. #LaCasaDelDragón'),\n",
       " (1579260350087958528,\n",
       "  '@FLM_Health @silvcrwings That definitely needed a scene where Alicent convinces Viserys not to punish him. It was weird that everyone would just accept that'),\n",
       " (1579260336552955905,\n",
       "  '“There is a debt to be paid…I shall have one of her son’s eyes in return.”\\nAlicent Hightower https://t.co/6DHvdOEh8F'),\n",
       " (1579260330567352321,\n",
       "  'RT @fuckbetteporter: just various shots of alicent being a hater… and it got a giggle out of me, she’s the one https://t.co/2wVdEFAumJ'),\n",
       " (1579260310053359617, 'odiar a alicent es literalmente como odiar a skyler'),\n",
       " (1579260292491792385,\n",
       "  'Alicent Hightower tirando as decorações valirianos e substituindo pela as da fé: 😤😮\\u200d💨😡🤬😵\\u200d💫😪\\n\\nMyriah Martell decorando a Fortaleza vermelhas com cores dornesas: 🥺🥰😍❤️😻🎉💅🙏'),\n",
       " (1579260269414748161,\n",
       "  'Muchos dicen que Alicent perdió la compostura, pero no hay nada más justo que el #OjoPorOjo Una verdadera madre es capaz de lo que sea por sus hijos. #LaCasaDelDragón'),\n",
       " (1579260263915978752,\n",
       "  'RT @thinkercooke: modern alicent with baby aemond\\n https://t.co/gU6qcHUKWE'),\n",
       " (1579260231967977472,\n",
       "  'RT @HOTDsource: Fun Fact: Margaery Tyrell is a descendant of Alicent Hightower #HouseOfTheDragon https://t.co/sVy934n1zZ'),\n",
       " (1579260192486993920,\n",
       "  'RT @silvcrwings: that is literally just a straight up LIE cause absolutely everyone in alicent and otto line was dead as doornails before 1…'),\n",
       " (1579260083321438208,\n",
       "  'RT @HOTDsource: Fun Fact: Margaery Tyrell is a descendant of Alicent Hightower #HouseOfTheDragon https://t.co/sVy934n1zZ'),\n",
       " (1579260072341180416,\n",
       "  \"I'm so ready for tonight. Can't wait to see the look on Alicent's face when she finds out about Daemon and Rhaenyra #hotd #DragonsYall\"),\n",
       " (1579260060345151488,\n",
       "  'RT @HOTDsource: Fun Fact: Margaery Tyrell is a descendant of Alicent Hightower #HouseOfTheDragon https://t.co/sVy934n1zZ'),\n",
       " (1579260056293765120,\n",
       "  \"RT @TODAYshow: From Aegon to Rhaena to yet another Joffrey, here's your guide to the next generation of Targaryen and Velaryon children in…\"),\n",
       " (1579260025620422656,\n",
       "  '@chatswith_chels YES! #TeamBlack all the way. Alicent from the jump rubbed me the wrong way.'),\n",
       " (1579260025092321280,\n",
       "  'Vou ser obrigado a silenciar as palavras argon ,rhaenyra ,targaryan ,alicent .'),\n",
       " (1579260019174146049,\n",
       "  \"RT @WiCnet: One more time jump, one more actor switch; Alicent's kids are going to grow up (Via Reddit: https://t.co/AcSSlGQhLs) https://t.…\"),\n",
       " (1579260019153178624,\n",
       "  'meus parabens alicent hightower vc ganhou o titulo de mulher mais jumenta de westeros'),\n",
       " (1579259993752117249,\n",
       "  'RT @HOTDsource: Fun Fact: Margaery Tyrell is a descendant of Alicent Hightower #HouseOfTheDragon https://t.co/sVy934n1zZ'),\n",
       " (1579259976165756930,\n",
       "  'My grandma lie so much talking bout she use to babysit alicent'),\n",
       " (1579259965851963393,\n",
       "  'RT @HOTDsource: Fun Fact: Margaery Tyrell is a descendant of Alicent Hightower #HouseOfTheDragon https://t.co/sVy934n1zZ'),\n",
       " (1579259951608102912,\n",
       "  'RT @HOTDsource: Fun Fact: Margaery Tyrell is a descendant of Alicent Hightower #HouseOfTheDragon https://t.co/sVy934n1zZ'),\n",
       " (1579259944112902144,\n",
       "  'RT @virathedragon: Alicent (in show) was a victim. \\n\\nShe then turned around and decided to destroy someone she claimed to love because that…'),\n",
       " (1579259931358007296,\n",
       "  'RT @Lover7Panic: Gente, acho que essa cena aqui vai ser depois que o Daemon dar uma de açougueiro e a alicent provavelmente vai até eles fa…'),\n",
       " (1579259929138843648,\n",
       "  'RT @oochotd: It’s Rhaenys vs Alicent tonight 🔥#HouseOfTheDragon https://t.co/GROhzMZPFK'),\n",
       " (1579259927025324032,\n",
       "  'Finally someone explains what I trying to explain Alicent in my mind. https://t.co/tnymLETaTk'),\n",
       " (1579259922457714688,\n",
       "  'RT @GoodConceptPro: \"My kids love this domino train. So many hours of entertainment. I am gonna have to buy a second one so my kiddos don\\'t…'),\n",
       " (1579259912781430784,\n",
       "  'if you look at grrm’s cast of female characters it’s very clear that he does not like or reward the alicent archetype so it’s no wonder her fans think she’s oppressed'),\n",
       " (1579259893927723010,\n",
       "  \"@HOTDsource Not directly, as far as i know Alicent's bloodline  didn't survive\"),\n",
       " (1579259889016516608,\n",
       "  'RT @evelineolv: essa galera falando que os filhos da rhaenyra são menos valirianos por serem bastardos, mas os filhos da alicent tem descen…'),\n",
       " (1579259888899096576,\n",
       "  'RT @HOTDsource: Fun Fact: Margaery Tyrell is a descendant of Alicent Hightower #HouseOfTheDragon https://t.co/sVy934n1zZ'),\n",
       " (1579259886520500224, 'Yalnız alicent burada meral akşener gibi çıkmış.'),\n",
       " (1579259883865923584,\n",
       "  '@lyssax_ Hahaha okay but let’s be honest, Larys is WAY worse than him! And so is that dumb bish Alicent 😂'),\n",
       " (1579259841553391616,\n",
       "  'Y ahora toca ver hotd, no quiero que me hagan odiar a alicent 💔'),\n",
       " (1579259811488989186,\n",
       "  'RT @rhaegarlya: otto’s great nephew married rhaena so margaery has more of daemon’s blood than alicent’s lmao COPE'),\n",
       " (1579259800848072705,\n",
       "  'Muchos dicen que Alicent perdió la compostura, pero no hay nada más justo que el #OjoPorOjo Una verdadera madre es capaz de lo que sea por sus hijos. #LaCasaDelDragón'),\n",
       " (1579259792933081089,\n",
       "  'RT @HOTDsource: Fun Fact: Margaery Tyrell is a descendant of Alicent Hightower #HouseOfTheDragon https://t.co/sVy934n1zZ'),\n",
       " (1579259767373332480,\n",
       "  'RT @thinkercooke: modern alicent with baby aemond\\n https://t.co/gU6qcHUKWE'),\n",
       " (1579259761719402496,\n",
       "  'RT @HOTDsource: Fun Fact: Margaery Tyrell is a descendant of Alicent Hightower #HouseOfTheDragon https://t.co/sVy934n1zZ'),\n",
       " (1579259754521985024,\n",
       "  'RT @fuckbetteporter: just various shots of alicent being a hater… and it got a giggle out of me, she’s the one https://t.co/2wVdEFAumJ'),\n",
       " (1579259736993673218,\n",
       "  'RT @everkota: the tragedy of alicent hightower #houseofthedragon https://t.co/PbkjRqWgxu'),\n",
       " (1579259721793798144,\n",
       "  'Oooo bilgiye gel olenna teyzenin ninesi olarak alicent hightower https://t.co/KgjFkrU7n2'),\n",
       " (1579259717880512512, 'RT @Karlincognito: Alicent stupid bitch Hightower'),\n",
       " (1579259700641529857,\n",
       "  'RT @VillaresAndrea: El feminismo abandonando mi cuerpo cada vez que Alicent Hightower abre la puta boca #HouseOfTheDragon #LaCasadelDragón…'),\n",
       " (1579259689799274498,\n",
       "  '@lilwamen Margery read about Alicent at night and was like \"slay slay\"'),\n",
       " (1579259648170786816,\n",
       "  'We still don’t like Alicent though. https://t.co/GC1aldi8Vs'),\n",
       " (1579259637786083328,\n",
       "  'RT @JarrodSchroll: Me anytime Alicent opens her mouth. #HouseOfTheDragon https://t.co/yz5cYHgYh4'),\n",
       " (1579259637735755776,\n",
       "  'Aliás, vi muito hate a Alicent na timeline, mas Sir Criston de 20 a 30x pior que ela hein? Macho recalcado intenfisies. #HouseOfTheDragonHBO'),\n",
       " (1579259627782316032,\n",
       "  'RT @silvcrwings: that is literally just a straight up LIE cause absolutely everyone in alicent and otto line was dead as doornails before 1…'),\n",
       " (1579259617674395649,\n",
       "  'RT @HOTDsource: Fun Fact: Margaery Tyrell is a descendant of Alicent Hightower #HouseOfTheDragon https://t.co/sVy934n1zZ'),\n",
       " (1579259600834301952,\n",
       "  'RT @HOTDsource: Fun Fact: Margaery Tyrell is a descendant of Alicent Hightower #HouseOfTheDragon https://t.co/sVy934n1zZ'),\n",
       " (1579259593301295105,\n",
       "  'RT @thinkercooke: modern alicent with baby aemond\\n https://t.co/gU6qcHUKWE'),\n",
       " (1579259578839367682,\n",
       "  'RT @targaryendramas: Alicent after finding out that Rhaenyra eloped with Daemon https://t.co/XORcouWxhD'),\n",
       " (1579259536774680577, 'ALICENT VELHA SAFADA https://t.co/wKgAeMHBrs'),\n",
       " (1579259535721578496,\n",
       "  'RT @thinkercooke: modern alicent with baby aemond\\n https://t.co/gU6qcHUKWE'),\n",
       " (1579259524149411840,\n",
       "  'RT @spaceprinceben: que pena que com o salto tempora vamos perder a reação do viserys, alicent, otto &amp; cia para o daemon e a rhaenyra nomea…'),\n",
       " (1579259513466589186,\n",
       "  \"rhaenicent | rhaenyra targaryen| alicent hightower| milly alcock | emma d'arcy| emily carey | olivia cooke | taylor swift | bad blood | edit | house of the dragon https://t.co/1wj5jnBVaL\"),\n",
       " (1579259498157740032,\n",
       "  'RT @HOTDsource: Fun Fact: Margaery Tyrell is a descendant of Alicent Hightower #HouseOfTheDragon https://t.co/sVy934n1zZ'),\n",
       " (1579259491878522880,\n",
       "  'Paralelismos perfectos entre Alicent y Cersei 🛐 https://t.co/AQdTzN2xvg https://t.co/aucDlmm8pB'),\n",
       " (1579259479270785024,\n",
       "  'RT @oochotd: It’s Rhaenys vs Alicent tonight 🔥#HouseOfTheDragon https://t.co/GROhzMZPFK'),\n",
       " (1579259436946067457,\n",
       "  'RT @HOTDsource: Fun Fact: Margaery Tyrell is a descendant of Alicent Hightower #HouseOfTheDragon https://t.co/sVy934n1zZ'),\n",
       " (1579259421892706305,\n",
       "  'RT @queenalysxanne: @HOTDsource margaery is alicent’s relative but not alicent’s descendant. alicent has no descendants 😭'),\n",
       " (1579259419493564416,\n",
       "  'RT @evelineolv: essa galera falando que os filhos da rhaenyra são menos valirianos por serem bastardos, mas os filhos da alicent tem descen…'),\n",
       " (1579259395435008005,\n",
       "  'RT @evelineolv: essa galera falando que os filhos da rhaenyra são menos valirianos por serem bastardos, mas os filhos da alicent tem descen…'),\n",
       " (1579259381438648320,\n",
       "  '@Ale_Nerozi @Lover7Panic Alicent fez filhos por fazer é muito diferente da historia do Daemon e da Rhaenyra que se amaram e atraves desse amor nasceram os seus filhos'),\n",
       " (1579259359213006848,\n",
       "  'alicent closeted repressed lesbian who’s been forced to be nothing but a royal womb and is mad at rhaenyra (the love of her life) for being able to live (even though they’re both held in shackles by their societal expectations) https://t.co/xfrhWzkKNr'),\n",
       " (1579259316254613504,\n",
       "  'I just know Alicent’s children are going to be the fucking worst in the new episode tonight'),\n",
       " (1579259259510222848,\n",
       "  'RT @HOTDsource: Fun Fact: Margaery Tyrell is a descendant of Alicent Hightower #HouseOfTheDragon https://t.co/sVy934n1zZ'),\n",
       " (1579259257341759488,\n",
       "  'Muchos dicen que Alicent perdió la compostura, pero no hay nada más justo que el #OjoPorOjo Una verdadera madre es capaz de lo que sea por sus hijos. #LaCasaDelDragón'),\n",
       " (1579259240975241219,\n",
       "  'RT @oochotd: It’s Rhaenys vs Alicent tonight 🔥#HouseOfTheDragon https://t.co/GROhzMZPFK'),\n",
       " (1579259226387456000,\n",
       "  'Alicent isn’t as bad as people make her out to be, and she has a lot to be mad about. I just don’t like anyone on her team. That said, she can go.'),\n",
       " (1579259210088734720,\n",
       "  'I don’t know why I like Alicent so much, maybe because of Olivia Cooke, but apparently episode 8 of #HOTD is where I’m supposed to hate her 😕'),\n",
       " (1579259165670719489, 'Alicent is that you?! https://t.co/ctVbWkJbKI'),\n",
       " (1579259157932171264,\n",
       "  'RT @thinkercooke: modern alicent with baby aemond\\n https://t.co/gU6qcHUKWE'),\n",
       " (1579259140764946432,\n",
       "  'RT @thinkercooke: modern alicent with baby aemond\\n https://t.co/gU6qcHUKWE'),\n",
       " (1579259139900919808,\n",
       "  'RT @thinkercooke: modern alicent with baby aemond\\n https://t.co/gU6qcHUKWE'),\n",
       " (1579259106279706624,\n",
       "  \"RT @marytwdor: when mush said alicent wished rhaenyra's death, calling her a whore, greens said he was unreliable. but when he said visenya…\"),\n",
       " (1579259104379699202,\n",
       "  '@milanesakkkj libera minha mommy alicent rapaz, hj veremos juntos pode me chamar'),\n",
       " (1579259102483529728,\n",
       "  'RT @everkota: the tragedy of alicent hightower #houseofthedragon https://t.co/PbkjRqWgxu'),\n",
       " (1579259047127453696,\n",
       "  'O USER DA ALICENT TO ME MIJANDO https://t.co/8KYbBXKoao'),\n",
       " (1579259040479457280,\n",
       "  'só a Alicent Hightower pode estragá-lo daqui a pouco 🤩 https://t.co/rvEMiC3uQ1'),\n",
       " (1579259010506665984,\n",
       "  'RT @HOTDsource: Fun Fact: Margaery Tyrell is a descendant of Alicent Hightower #HouseOfTheDragon https://t.co/sVy934n1zZ'),\n",
       " (1579259002935836674,\n",
       "  'RT @lastkisshhh: #RHAENYRA &amp; #ALICENT: my tears ricochet\\nhttps://t.co/VlXcSpyj4A'),\n",
       " (1579258965203963907,\n",
       "  'RT @HOTDsource: Fun Fact: Margaery Tyrell is a descendant of Alicent Hightower #HouseOfTheDragon https://t.co/sVy934n1zZ'),\n",
       " (1579258930269941760,\n",
       "  'RT @GoodConceptPro: \"My kids love this domino train. So many hours of entertainment. I am gonna have to buy a second one so my kiddos don\\'t…'),\n",
       " (1579258888658255877,\n",
       "  \"RT @NiceQueenCersei: Rhaenys: *Quietly* I know what you are. \\nAlicent: In love with Rhaenyra? I thought I'd repressed that really well. \\nRh…\"),\n",
       " (1579258882022846464,\n",
       "  'RT @everkota: the tragedy of alicent hightower #houseofthedragon https://t.co/PbkjRqWgxu'),\n",
       " (1579258874422784000,\n",
       "  'RT @HOTDsource: Not a direct descendant, but a descendant nonetheless, Margaery is descended from Alicent’s cousins, which would make Alice…'),\n",
       " (1579258855523258368,\n",
       "  \"RT @helstarfyre: It's always “ alicent’s bloodline is ended haha the hightowers are losers🤣🤣🤣” as if those hightowers aren't hanging out at…\"),\n",
       " (1579258837881614336, 'a alicent e o criston cole dois vermes'),\n",
       " (1579258788171124738,\n",
       "  '@LoreVillarraga_ Jajajajajajaja, mi Alicent solo necesita tener buen sexo.'),\n",
       " (1579258723985653760,\n",
       "  'Muchos dicen que Alicent perdió la compostura, pero no hay nada más justo que el #OjoPorOjo Una verdadera madre es capaz de lo que sea por sus hijos. #LaCasaDelDragón'),\n",
       " (1579258715449872384,\n",
       "  'RT @thinkercooke: modern alicent with baby aemond\\n https://t.co/gU6qcHUKWE'),\n",
       " (1579258713625759744,\n",
       "  'RT @thinkercooke: modern alicent with baby aemond\\n https://t.co/gU6qcHUKWE'),\n",
       " (1579258712015138818,\n",
       "  'a marg lembra um pouco a alicent eu reparei isso desde o 1 ep https://t.co/hEpKHpH64o')]"
      ]
     },
     "execution_count": 28,
     "metadata": {},
     "output_type": "execute_result"
    }
   ],
   "source": [
    "pd.DataFrame([(data.id,data.text)for data in response.data])"
   ]
  },
  {
   "cell_type": "code",
   "execution_count": null,
   "id": "0f98d4d6",
   "metadata": {},
   "outputs": [],
   "source": [
    "# Search Recent Tweets\n",
    "\n",
    "client = get_bearer_token_client\n",
    "\n",
    "# This endpoint/method returns Tweets from the last seven days\n",
    "\n",
    "response = client.search_recent_tweets(\"Tweepy\")\n",
    "# The method returns a Response object, a named tuple with data, includes,\n",
    "# errors, and meta fields\n",
    "print(response.meta)\n",
    "\n",
    "# In this case, the data field of the Response returned is a list of Tweet\n",
    "# objects\n",
    "tweets = response.data\n",
    "\n",
    "# Each Tweet object has default ID and text fields\n",
    "for tweet in tweets:\n",
    "    print(tweet.id)\n",
    "    print(tweet.text)\n",
    "\n",
    "# By default, this endpoint/method returns 10 results\n",
    "# You can retrieve up to 100 Tweets by specifying max_results\n",
    "response = client.search_recent_tweets(\"Tweepy\", max_results=100)"
   ]
  },
  {
   "cell_type": "markdown",
   "id": "661c041e",
   "metadata": {},
   "source": [
    "---\n",
    "---\n",
    "---"
   ]
  },
  {
   "cell_type": "code",
   "execution_count": null,
   "id": "d7295c78",
   "metadata": {},
   "outputs": [],
   "source": [
    "# Import spacy\n",
    "import spacy\n",
    "\n",
    "# Load a trained model- we are using the model for English\n",
    "nlp = spacy.load(\"en_core_web_sm\")"
   ]
  },
  {
   "cell_type": "code",
   "execution_count": null,
   "id": "f318b56b",
   "metadata": {},
   "outputs": [],
   "source": []
  },
  {
   "cell_type": "code",
   "execution_count": null,
   "id": "0d9c4f0b",
   "metadata": {},
   "outputs": [],
   "source": []
  },
  {
   "cell_type": "markdown",
   "id": "b98f976f",
   "metadata": {},
   "source": [
    "---\n",
    "---\n",
    "---"
   ]
  },
  {
   "cell_type": "code",
   "execution_count": null,
   "id": "3c454862",
   "metadata": {},
   "outputs": [],
   "source": [
    "import tweepy\n",
    "import pandas as pd\n",
    "import datetime as dt\n",
    "from pyspark.sql import SparkSession\n",
    "from auth import get_api_keys, get_bearer_token_client"
   ]
  }
 ],
 "metadata": {
  "kernelspec": {
   "display_name": "Python 3 (ipykernel)",
   "language": "python",
   "name": "python3"
  },
  "language_info": {
   "codemirror_mode": {
    "name": "ipython",
    "version": 3
   },
   "file_extension": ".py",
   "mimetype": "text/x-python",
   "name": "python",
   "nbconvert_exporter": "python",
   "pygments_lexer": "ipython3",
   "version": "3.9.12"
  }
 },
 "nbformat": 4,
 "nbformat_minor": 5
}
