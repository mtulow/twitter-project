{
 "cells": [
  {
   "cell_type": "markdown",
   "id": "3d50daf9",
   "metadata": {},
   "source": [
    "# <center>Twitter API Toolkit for Google Cloud</center>\n",
    "---"
   ]
  },
  {
   "cell_type": "markdown",
   "id": "c57714c7",
   "metadata": {},
   "source": [
    "Source: [link](https://developer.twitter.com/en/docs/tutorials/developer-guide--twitter-api-toolkit-for-google-cloud)"
   ]
  },
  {
   "cell_type": "markdown",
   "id": "316bfe33",
   "metadata": {},
   "source": [
    "---"
   ]
  },
  {
   "cell_type": "markdown",
   "id": "55061f4a",
   "metadata": {},
   "source": [
    "__Example Dashboard:__"
   ]
  },
  {
   "cell_type": "markdown",
   "id": "a6c41c06",
   "metadata": {},
   "source": [
    "- This toolkit helps you to build a dashboard for analysis of the Tweets ingested by the toolkit into the Google Cloud\n",
    "- The dashboard above is an example built with the toolkit that illustrates a Tweet dataset of ‘Crypto currencies’\n",
    "- The dashboard will allow a user to slice and dice the Tweets by popular hashtags and by engagement metrics\n",
    "- A user can find impactful Tweets that matter to their business case by applying the “popular hashtags” filter or using the engagement metrics to sort and narrow down to the Tweets with the highest engagement"
   ]
  },
  {
   "cell_type": "code",
   "execution_count": null,
   "id": "e54fe3d1",
   "metadata": {},
   "outputs": [],
   "source": [
    "#TODO: shrink then insert example dashboard photo."
   ]
  },
  {
   "cell_type": "markdown",
   "id": "22a48cfc",
   "metadata": {},
   "source": [
    "---"
   ]
  },
  {
   "cell_type": "markdown",
   "id": "80a118af",
   "metadata": {},
   "source": [
    "__The big picture__"
   ]
  },
  {
   "cell_type": "markdown",
   "id": "25fa29d1",
   "metadata": {},
   "source": [
    "As a user of this toolkit, you need to perform two steps:\n",
    "1. Install the Tweet loader application in the Google Cloud App engine and invoke the application with a CURL command that is the API request to ingest the Tweets\n",
    "2. Configure a dashboard, by connecting to the BigQuery database with DataStudio"
   ]
  },
  {
   "cell_type": "code",
   "execution_count": null,
   "id": "826cebfa",
   "metadata": {},
   "outputs": [],
   "source": [
    "#TODO: shrink then insert example dashboard photo."
   ]
  },
  {
   "cell_type": "markdown",
   "id": "b3e9df42",
   "metadata": {},
   "source": [
    "---"
   ]
  }
 ],
 "metadata": {
  "kernelspec": {
   "display_name": "Python 3 (ipykernel)",
   "language": "python",
   "name": "python3"
  },
  "language_info": {
   "codemirror_mode": {
    "name": "ipython",
    "version": 3
   },
   "file_extension": ".py",
   "mimetype": "text/x-python",
   "name": "python",
   "nbconvert_exporter": "python",
   "pygments_lexer": "ipython3",
   "version": "3.9.12"
  }
 },
 "nbformat": 4,
 "nbformat_minor": 5
}
